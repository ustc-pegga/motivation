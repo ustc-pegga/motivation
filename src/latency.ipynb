{
 "cells": [
  {
   "cell_type": "code",
   "execution_count": 2,
   "metadata": {},
   "outputs": [],
   "source": [
    "import os\n",
    "import sys\n",
    "import csv\n",
    "import copy\n",
    "import matplotlib.pyplot as plt\n",
    "import pandas as pd\n",
    "import numpy as np\n",
    "\n"
   ]
  },
  {
   "cell_type": "code",
   "execution_count": 18,
   "metadata": {},
   "outputs": [],
   "source": [
    "def get_data(type,device,dataA,dataB):\n",
    "    # type = \"64_DWConv_kernel\"\n",
    "    data_root = \"../paper/{}/data\".format(type)\n",
    "    # device_list= [\"mi11_cpu\",\"redmi_gpu\",\"mate30e_npu\"]\n",
    "    # device = \"mate30e_npu\"\n",
    "    txt = open('{}/{}.txt'.format(data_root,device), 'r')\n",
    "\n",
    "    latency = txt.readlines()\n",
    "    latency = [i.strip() for i in latency]\n",
    "\n",
    "    info, data = latency[:3], latency[3:]\n",
    "    latency_dict = {}\n",
    "    for i in data:\n",
    "        tmp = i.split(\" \")\n",
    "        (filepath, filename) = os.path.split(tmp[0])\n",
    "        (name, suffix) = os.path.splitext(filename)\n",
    "        latency_dict[name] = [float(tmp[1]),float(tmp[2]),float(tmp[3])]\n",
    "    read_csv   = '{}/{}.csv'.format(data_root,type)\n",
    "    # write_csv = 'dw_{}_{}_{}.csv'.format(\"kernel\",device,\"core0\")\n",
    "    write_csv  = '{}/dw_kernel_{}.csv'.format(data_root,device)\n",
    "    read_file  = open(read_csv,\"r\", encoding='utf-8')\n",
    "    write_file = open(write_csv,\"w+\", encoding='utf-8')\n",
    "    reader = csv.reader(read_file)\n",
    "    writer = csv.writer(write_file)\n",
    "    title = [\"op\",\"H\",\"in_c\",\"out_c\",\"stride\",\"kernel_size\",\"FLOPs\",\"Params\",\"MACs\", 'intensity','load_time', 'first_time', 'avg_time','FLOPS','bandwidth']\n",
    "    writer.writerow(title)\n",
    "    for row in reader:\n",
    "        if row[0] == \"op\":\n",
    "            continue\n",
    "        name = \"{}_{}\".format(\"TestNet_k\", row[5])\n",
    "        print(name)\n",
    "        # if name in latency_dict.keys():\n",
    "        load_time  = latency_dict[name][0]\n",
    "        first_time = latency_dict[name][1]\n",
    "        avg_time   = latency_dict[name][2]\n",
    "        # intensity = float(row[6]) / float(row[8])\n",
    "        # intensity = float(row[9])\n",
    "        FLOPS = float(row[6]) / (avg_time/1000) / 1024\n",
    "        bandwidth = float(row[8]) / (avg_time/1000)\n",
    "        tmp = copy.deepcopy(row)\n",
    "        tmp.append(load_time)\n",
    "        tmp.append(first_time)\n",
    "        tmp.append(avg_time)\n",
    "        # tmp.append(intensity)\n",
    "        tmp.append(FLOPS)\n",
    "        tmp.append(bandwidth)\n",
    "        writer.writerow(tmp)\n",
    "    write_file.close()\n",
    "    def get_col(data,label):\n",
    "        x = data[label]\n",
    "        y = [i for i in x]\n",
    "        return y\n",
    "\n",
    "\n",
    "    read_file = open(write_csv,\"r\", encoding='utf-8')\n",
    "    data = pd.read_csv(read_file)\n",
    "\n",
    "    # first_time = get_col(data, 'first_time')\n",
    "    # # print(first_time)\n",
    "    # load_time = get_col(data, 'load_time')\n",
    "    # avg_time = get_col(data, 'avg_time')\n",
    "    # flops = get_col(data, 'FLOPs')\n",
    "    # params = get_col(data, 'Params')\n",
    "    # macs = get_col(data, 'MACs')\n",
    "    # channel = get_col(data, 'in_c')\n",
    "    # kernel = get_col(data, 'kernel_size')\n",
    "    # # total_size = [float(i)/1024 /1024 for i in total_size]\n",
    "    # intensity = []\n",
    "    # FLOPS = []\n",
    "    # bandwidth = []\n",
    "    # comp = []\n",
    "    # for i in range(len(first_time)):\n",
    "    #     intensity.append(float(flops[i])/float(macs[i]))\n",
    "    #     FLOPS.append(float(flops[i])/float(avg_time[i]))\n",
    "    #     bandwidth.append(float(macs[i])/float(avg_time[i]))\n",
    "        # comp.append(float(first_time[i])/avg_time[i])\n",
    "    \n",
    "    dataA = get_col(data, dataA)\n",
    "    dataB = get_col(data, dataB)\n",
    "    \n",
    "    return dataA,dataB"
   ]
  },
  {
   "cell_type": "code",
   "execution_count": 23,
   "metadata": {},
   "outputs": [
    {
     "name": "stdout",
     "output_type": "stream",
     "text": [
      "TestNet_k_1\n",
      "TestNet_k_3\n",
      "TestNet_k_5\n",
      "TestNet_k_7\n",
      "TestNet_k_9\n",
      "TestNet_k_11\n",
      "TestNet_k_13\n",
      "TestNet_k_15\n",
      "TestNet_k_17\n",
      "TestNet_k_19\n",
      "TestNet_k_21\n",
      "TestNet_k_23\n",
      "[1.7745632178783437, 4.07339067148801, 5.876980583349865, 9.8486858583157, 10.333809798087744, 12.468140803958995, 14.667007820675597, 16.179778730960372, 18.26337966746072, 19.412972074069696, 20.738008486644443, 20.184904899421813]\n"
     ]
    },
    {
     "data": {
      "text/plain": [
       "<matplotlib.legend.Legend at 0x7fe397526f70>"
      ]
     },
     "execution_count": 23,
     "metadata": {},
     "output_type": "execute_result"
    },
    {
     "data": {
      "image/png": "[encoded data removed]",
      "text/plain": [
       "<Figure size 640x480 with 1 Axes>"
      ]
     },
     "metadata": {},
     "output_type": "display_data"
    }
   ],
   "source": [
    "# kernel,latency = get_data(\"112_DWConv_kernel\",\"mate30e_npu\",\"kernel_size\",\"avg_time\")\n",
    "\n",
    "# # plt.xscale(\"log\")\n",
    "# # z1 = np.polyfit(intensity, Flops, 3)\n",
    "# # p1 = np.poly1d(z1)\n",
    "# # # plt.ylim(0,3)\n",
    "# # yval = p1(intensity)\n",
    "# # plt.plot(intensity, yval, 'r',label='polyfit values')\n",
    "# plt.plot(kernel,latency,marker=\"x\",label=\"112x112\")\n",
    "# input = \"112\"\n",
    "# kernel,latency = get_data(\"{}_DWConv_kernel\".format(input),\"mi11_cpu\",\"kernel_size\",\"FLOPS\")\n",
    "# plt.plot(kernel,latency,marker=\"x\",label=\"CPU\")\n",
    "# kernel,latency = get_data(\"{}_DWConv_kernel\".format(input),\"redmi_gpu\",\"kernel_size\",\"FLOPS\")\n",
    "# plt.plot(kernel,latency,marker=\"x\",label=\"GPU\")\n",
    "# kernel,latency = get_data(\"{}_DWConv_kernel\".format(input),\"mate30e_npu\",\"kernel_size\",\"FLOPS\")\n",
    "# plt.plot(kernel,latency,marker=\"x\",label=\"NPU\")\n",
    "device = \"mate30e_gpu\"\n",
    "kernel,latency = get_data(\"test_dwconv_kernel_56\"\n",
    "                          ,device,\"intensity\",\"FLOPS\")\n",
    "print(latency)\n",
    "plt.plot(kernel,latency,marker=\"x\",label=\"56\")\n",
    "plt.xlabel(\"intensity\")\n",
    "plt.ylabel(\"FLOPS(GFLOP/s)\")\n",
    "\n",
    "kernel,latency = get_data(\"test_dwconv_kernel_28\"\n",
    "                          ,device,\"intensity\",\"FLOPS\")\n",
    "print(latency)\n",
    "plt.plot(kernel,latency,marker=\"x\",label=\"28\")\n",
    "plt.xlabel(\"intensity\")\n",
    "plt.ylabel(\"FLOPS(GFLOP/s)\")\n",
    "\n",
    "plt.ylim(ymin=0)\n",
    "plt.legend()\n",
    "# name = \"{}_DWConv_Roofline\".format(device)\n",
    "# plt.savefig(\"/home/hujie/Desktop/fig/{}.png\".format(name),dpi=300)"
   ]
  },
  {
   "cell_type": "code",
   "execution_count": null,
   "metadata": {},
   "outputs": [],
   "source": [
    "device = \"mate30e_cpu\"\n",
    "kernel,latency = get_data(\"{}_DWConv_kernel\".format(112),device,\"intensity\",\"FLOPS\")\n",
    "plt.plot(kernel,latency,marker=\"x\",label=\"112x112\")\n"
   ]
  }
 ],
 "metadata": {
  "kernelspec": {
   "display_name": "pytorch1.12",
   "language": "python",
   "name": "python3"
  },
  "language_info": {
   "codemirror_mode": {
    "name": "ipython",
    "version": 3
   },
   "file_extension": ".py",
   "mimetype": "text/x-python",
   "name": "python",
   "nbconvert_exporter": "python",
   "pygments_lexer": "ipython3",
   "version": "3.9.16"
  },
  "orig_nbformat": 4,
  "vscode": {
   "interpreter": {
    "hash": "430a497fa06be740f2ff880473134190e0d4b0b579437cee30512db82458b899"
   }
  }
 },
 "nbformat": 4,
 "nbformat_minor": 2
}
