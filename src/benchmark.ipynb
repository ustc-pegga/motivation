{
 "cells": [
  {
   "cell_type": "code",
   "execution_count": 3,
   "metadata": {},
   "outputs": [],
   "source": [
    "import os\n",
    "import sys\n",
    "import csv\n",
    "import copy\n",
    "import matplotlib.pyplot as plt\n",
    "import pandas as pd\n",
    "import numpy as np"
   ]
  },
  {
   "cell_type": "code",
   "execution_count": 5,
   "metadata": {},
   "outputs": [],
   "source": [
    "csv_root = \"../paper/benchmark/data/benchmark.csv\"\n",
    "device_list = [\"mate30e_cpu\",\"mate30e_gpu\",\"mate30e_npu\"]\n",
    "type = \"benchmark\""
   ]
  },
  {
   "cell_type": "code",
   "execution_count": 15,
   "metadata": {},
   "outputs": [],
   "source": [
    "def get_data(type,device,dataA,dataB):\n",
    "    # type = \"64_DWConv_kernel\"\n",
    "    data_root = \"../paper/{}/data\".format(type)\n",
    "    # device_list= [\"mi11_cpu\",\"redmi_gpu\",\"mate30e_npu\"]\n",
    "    # device = \"mate30e_npu\"\n",
    "    txt = open('{}/{}.txt'.format(data_root,device), 'r')\n",
    "\n",
    "    latency = txt.readlines()\n",
    "    latency = [i.strip() for i in latency]\n",
    "\n",
    "    info, data = latency[:3], latency[3:]\n",
    "    latency_dict = {}\n",
    "    for i in data:\n",
    "        tmp = i.split(\" \")\n",
    "        (filepath, filename) = os.path.split(tmp[0])\n",
    "        (name, suffix) = os.path.splitext(filename)\n",
    "        latency_dict[name] = [float(tmp[1]),float(tmp[2]),float(tmp[3])]\n",
    "    read_csv   = '{}/{}.csv'.format(data_root,type)\n",
    "    # write_csv = 'dw_{}_{}_{}.csv'.format(\"kernel\",device,\"core0\")\n",
    "    write_csv  = '{}/benchmark_{}.csv'.format(data_root,device)\n",
    "    read_file  = open(read_csv,\"r\", encoding='utf-8')\n",
    "    write_file = open(write_csv,\"w+\", encoding='utf-8')\n",
    "    reader = csv.reader(read_file)\n",
    "    writer = csv.writer(write_file)\n",
    "    title = [\"op\",\"H\",\"in_c\",\"out_c\",\"stride\",\"kernel_size\",\"FLOPs\",\"Params\",\"MACs\", 'load_time', 'first_time', 'avg_time','intensity','FLOPS','bandwidth']\n",
    "    writer.writerow(title)\n",
    "    for row in reader:\n",
    "        if row[0] == \"op\":\n",
    "            continue\n",
    "        if row[0] == 'Conv':\n",
    "            name = \"Conv_FLOPS\"\n",
    "        elif row[0] =='DWConv':\n",
    "            name = \"DWConv_Bandwidth\"\n",
    "        # if name in latency_dict.keys():\n",
    "        load_time  = latency_dict[name][0]\n",
    "        first_time = latency_dict[name][1]\n",
    "        avg_time   = latency_dict[name][2]\n",
    "        intensity = float(row[6]) / float(row[8])\n",
    "        FLOPS = float(row[6]) / (avg_time/1000)\n",
    "        bandwidth = float(row[8]) / (avg_time/1000)\n",
    "        tmp = copy.deepcopy(row)\n",
    "        # tmp.pop(2)\n",
    "        # tmp.pop(0)\n",
    "        tmp.append(load_time)\n",
    "        tmp.append(first_time)\n",
    "        tmp.append(avg_time)\n",
    "        tmp.append(intensity)\n",
    "        tmp.append(FLOPS)\n",
    "        tmp.append(bandwidth)\n",
    "        writer.writerow(tmp)\n",
    "    write_file.close()\n",
    "    def get_col(data,label):\n",
    "        x = data[label]\n",
    "        y = [i for i in x]\n",
    "        return y\n",
    "\n",
    "\n",
    "    read_file = open(write_csv,\"r\", encoding='utf-8')\n",
    "    data = pd.read_csv(read_file)\n",
    "    dataA = get_col(data, dataA)\n",
    "    dataB = get_col(data, dataB)\n",
    "    \n",
    "    return dataA,dataB\n"
   ]
  },
  {
   "cell_type": "code",
   "execution_count": 25,
   "metadata": {},
   "outputs": [
    {
     "name": "stdout",
     "output_type": "stream",
     "text": [
      "[244785.937195738, 125.0185741881651] [1639.19154372146, 2500.4113493800714]\n",
      "244785.937195738 2500.4113493800714\n"
     ]
    }
   ],
   "source": [
    "device = \"mate30e_npu\"\n",
    "FLOPS,Bandwidth = get_data(\"benchmark\",device,\"FLOPS\",\"bandwidth\")\n",
    "FLOPS = [i/1024 for i in FLOPS]\n",
    "print(FLOPS,Bandwidth)\n",
    "print(max(FLOPS),max(Bandwidth))"
   ]
  }
 ],
 "metadata": {
  "kernelspec": {
   "display_name": "pytorch1.12",
   "language": "python",
   "name": "python3"
  },
  "language_info": {
   "codemirror_mode": {
    "name": "ipython",
    "version": 3
   },
   "file_extension": ".py",
   "mimetype": "text/x-python",
   "name": "python",
   "nbconvert_exporter": "python",
   "pygments_lexer": "ipython3",
   "version": "3.9.16"
  },
  "orig_nbformat": 4,
  "vscode": {
   "interpreter": {
    "hash": "430a497fa06be740f2ff880473134190e0d4b0b579437cee30512db82458b899"
   }
  }
 },
 "nbformat": 4,
 "nbformat_minor": 2
}
